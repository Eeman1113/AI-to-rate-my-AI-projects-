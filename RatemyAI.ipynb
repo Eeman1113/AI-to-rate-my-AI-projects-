{
  "nbformat": 4,
  "nbformat_minor": 0,
  "metadata": {
    "colab": {
      "name": "RatemyAI.ipynb",
      "provenance": [],
      "collapsed_sections": [],
      "authorship_tag": "ABX9TyOO5pUhY8ZJIIZcuVnbvldO",
      "include_colab_link": true
    },
    "kernelspec": {
      "name": "python3",
      "display_name": "Python 3"
    },
    "language_info": {
      "name": "python"
    }
  },
  "cells": [
    {
      "cell_type": "markdown",
      "metadata": {
        "id": "view-in-github",
        "colab_type": "text"
      },
      "source": [
        "<a href=\"https://colab.research.google.com/github/Eeman1113/AI-to-rate-my-AI-projects-/blob/main/RatemyAI.ipynb\" target=\"_parent\"><img src=\"https://colab.research.google.com/assets/colab-badge.svg\" alt=\"Open In Colab\"/></a>"
      ]
    },
    {
      "cell_type": "code",
      "source": [
        "#import all libraries\n",
        "import urllib.request\n",
        "import requests\n",
        "import bs4\n",
        "from bs4 import BeautifulSoup"
      ],
      "metadata": {
        "id": "wq6wg-YUCFGW"
      },
      "execution_count": null,
      "outputs": []
    },
    {
      "cell_type": "code",
      "source": [
        "#save the links we wanna scrape\n",
        "arificial_intelligence = \"https://medium.com/@eeman.majumder\""
      ],
      "metadata": {
        "id": "bdqIz1C-CJpP"
      },
      "execution_count": null,
      "outputs": []
    },
    {
      "cell_type": "code",
      "source": [
        "# install chromium, its driver, and selenium\n",
        "!apt-get update\n",
        "!apt install chromium-chromedriver\n",
        "!cp /usr/lib/chromium-browser/chromedriver /usr/bin\n",
        "!pip install selenium"
      ],
      "metadata": {
        "id": "dB2b2HJEFNSO",
        "colab": {
          "base_uri": "https://localhost:8080/"
        },
        "outputId": "0d4270d9-c4d0-4dac-d415-84f786adc997"
      },
      "execution_count": null,
      "outputs": [
        {
          "output_type": "stream",
          "name": "stdout",
          "text": [
            "\r0% [Working]\r            \rHit:1 http://security.ubuntu.com/ubuntu bionic-security InRelease\n",
            "\r0% [Connecting to archive.ubuntu.com (91.189.91.39)] [Connected to cloud.r-proj\r0% [1 InRelease gpgv 88.7 kB] [Waiting for headers] [Connected to cloud.r-proje\r                                                                               \rHit:2 http://archive.ubuntu.com/ubuntu bionic InRelease\n",
            "\r0% [1 InRelease gpgv 88.7 kB] [Waiting for headers] [Waiting for headers] [Conn\r                                                                               \rHit:3 https://cloud.r-project.org/bin/linux/ubuntu bionic-cran40/ InRelease\n",
            "\r0% [1 InRelease gpgv 88.7 kB] [Waiting for headers] [Connecting to ppa.launchpa\r                                                                               \rHit:4 https://developer.download.nvidia.com/compute/cuda/repos/ubuntu1804/x86_64  InRelease\n",
            "\r0% [1 InRelease gpgv 88.7 kB] [Waiting for headers] [Connecting to ppa.launchpa\r                                                                               \rHit:5 http://archive.ubuntu.com/ubuntu bionic-updates InRelease\n",
            "\r0% [1 InRelease gpgv 88.7 kB] [Connecting to ppa.launchpad.net (185.125.190.52)\r                                                                               \rHit:6 http://archive.ubuntu.com/ubuntu bionic-backports InRelease\n",
            "\r0% [1 InRelease gpgv 88.7 kB] [Connecting to ppa.launchpad.net (185.125.190.52)\r                                                                               \rHit:7 http://ppa.launchpad.net/c2d4u.team/c2d4u4.0+/ubuntu bionic InRelease\n",
            "\r0% [1 InRelease gpgv 88.7 kB] [Connecting to ppa.launchpad.net (185.125.190.52)\r                                                                               \r0% [Connecting to ppa.launchpad.net (185.125.190.52)] [Waiting for headers]\r                                                                           \rIgn:8 https://developer.download.nvidia.com/compute/machine-learning/repos/ubuntu1804/x86_64  InRelease\n",
            "Hit:9 https://developer.download.nvidia.com/compute/machine-learning/repos/ubuntu1804/x86_64  Release\n",
            "Hit:10 http://ppa.launchpad.net/cran/libgit2/ubuntu bionic InRelease\n",
            "Hit:11 http://ppa.launchpad.net/deadsnakes/ppa/ubuntu bionic InRelease\n",
            "Hit:12 http://ppa.launchpad.net/graphics-drivers/ppa/ubuntu bionic InRelease\n",
            "Reading package lists... Done\n",
            "Reading package lists... Done\n",
            "Building dependency tree       \n",
            "Reading state information... Done\n",
            "chromium-chromedriver is already the newest version (101.0.4951.64-0ubuntu0.18.04.1).\n",
            "The following package was automatically installed and is no longer required:\n",
            "  libnvidia-common-460\n",
            "Use 'apt autoremove' to remove it.\n",
            "0 upgraded, 0 newly installed, 0 to remove and 71 not upgraded.\n",
            "cp: '/usr/lib/chromium-browser/chromedriver' and '/usr/bin/chromedriver' are the same file\n",
            "Looking in indexes: https://pypi.org/simple, https://us-python.pkg.dev/colab-wheels/public/simple/\n",
            "Requirement already satisfied: selenium in /usr/local/lib/python3.7/dist-packages (4.3.0)\n",
            "Requirement already satisfied: trio-websocket~=0.9 in /usr/local/lib/python3.7/dist-packages (from selenium) (0.9.2)\n",
            "Requirement already satisfied: trio~=0.17 in /usr/local/lib/python3.7/dist-packages (from selenium) (0.21.0)\n",
            "Requirement already satisfied: urllib3[secure,socks]~=1.26 in /usr/local/lib/python3.7/dist-packages (from selenium) (1.26.11)\n",
            "Requirement already satisfied: outcome in /usr/local/lib/python3.7/dist-packages (from trio~=0.17->selenium) (1.2.0)\n",
            "Requirement already satisfied: idna in /usr/local/lib/python3.7/dist-packages (from trio~=0.17->selenium) (2.10)\n",
            "Requirement already satisfied: attrs>=19.2.0 in /usr/local/lib/python3.7/dist-packages (from trio~=0.17->selenium) (21.4.0)\n",
            "Requirement already satisfied: sortedcontainers in /usr/local/lib/python3.7/dist-packages (from trio~=0.17->selenium) (2.4.0)\n",
            "Requirement already satisfied: sniffio in /usr/local/lib/python3.7/dist-packages (from trio~=0.17->selenium) (1.2.0)\n",
            "Requirement already satisfied: async-generator>=1.9 in /usr/local/lib/python3.7/dist-packages (from trio~=0.17->selenium) (1.10)\n",
            "Requirement already satisfied: wsproto>=0.14 in /usr/local/lib/python3.7/dist-packages (from trio-websocket~=0.9->selenium) (1.1.0)\n",
            "Requirement already satisfied: PySocks!=1.5.7,<2.0,>=1.5.6 in /usr/local/lib/python3.7/dist-packages (from urllib3[secure,socks]~=1.26->selenium) (1.7.1)\n",
            "Requirement already satisfied: cryptography>=1.3.4 in /usr/local/lib/python3.7/dist-packages (from urllib3[secure,socks]~=1.26->selenium) (37.0.4)\n",
            "Requirement already satisfied: pyOpenSSL>=0.14 in /usr/local/lib/python3.7/dist-packages (from urllib3[secure,socks]~=1.26->selenium) (22.0.0)\n",
            "Requirement already satisfied: certifi in /usr/local/lib/python3.7/dist-packages (from urllib3[secure,socks]~=1.26->selenium) (2022.6.15)\n",
            "Requirement already satisfied: cffi>=1.12 in /usr/local/lib/python3.7/dist-packages (from cryptography>=1.3.4->urllib3[secure,socks]~=1.26->selenium) (1.15.1)\n",
            "Requirement already satisfied: pycparser in /usr/local/lib/python3.7/dist-packages (from cffi>=1.12->cryptography>=1.3.4->urllib3[secure,socks]~=1.26->selenium) (2.21)\n",
            "Requirement already satisfied: h11<1,>=0.9.0 in /usr/local/lib/python3.7/dist-packages (from wsproto>=0.14->trio-websocket~=0.9->selenium) (0.13.0)\n",
            "Requirement already satisfied: typing-extensions in /usr/local/lib/python3.7/dist-packages (from h11<1,>=0.9.0->wsproto>=0.14->trio-websocket~=0.9->selenium) (4.1.1)\n"
          ]
        }
      ]
    },
    {
      "cell_type": "code",
      "source": [
        "\n",
        "# set options to be headless, ..\n",
        "from selenium import webdriver\n",
        "options = webdriver.ChromeOptions()\n",
        "options.add_argument('--headless')\n",
        "options.add_argument('--no-sandbox')\n",
        "options.add_argument('--disable-dev-shm-usage')\n"
      ],
      "metadata": {
        "id": "1B_McLQmFdon"
      },
      "execution_count": null,
      "outputs": []
    },
    {
      "cell_type": "code",
      "source": [
        "# open it, go to a website, and get results\n",
        "driver = webdriver.Chrome('chromedriver',options=options)\n",
        "driver.get(arificial_intelligence)\n",
        "driver.execute_script(\"window.scrollTo(0, document.body.scrollHeight);\")"
      ],
      "metadata": {
        "id": "wtNSLcglFOPb"
      },
      "execution_count": null,
      "outputs": []
    },
    {
      "cell_type": "code",
      "source": [
        "res = driver.execute_script(\"return document.documentElement.outerHTML\")\n",
        "driver.quit()"
      ],
      "metadata": {
        "id": "i4jAhG3QGPK-"
      },
      "execution_count": null,
      "outputs": []
    },
    {
      "cell_type": "code",
      "source": [
        "soup = BeautifulSoup(res, 'lxml')"
      ],
      "metadata": {
        "id": "T8c0gpQvGrN-"
      },
      "execution_count": null,
      "outputs": []
    },
    {
      "cell_type": "code",
      "source": [
        "# Input all work data into the array\n",
        "work=[]\n",
        "for my_tag in soup.find_all(class_=\"bn hl ka kb kc kd hp ke kf kg kh ht ki kj kk kl hx km kn ko kp ib kq kr ks kt if ig ih ii ik im jd\"):\n",
        "    work.append(my_tag.text)\n",
        "print(work)\n",
        "for i in work:\n",
        "  print(i)"
      ],
      "metadata": {
        "colab": {
          "base_uri": "https://localhost:8080/"
        },
        "id": "6gkG_nBXG5_B",
        "outputId": "fe538054-b31a-43ed-dfe9-b39b4f99bdce"
      },
      "execution_count": 88,
      "outputs": [
        {
          "output_type": "stream",
          "name": "stdout",
          "text": [
            "['Manuscripts.ai — What is it and how is it gonna change the world of writing?', 'I made an AI to make weird Spotify playlists.', 'What is Data Science and How to get into it?', 'I made an AI to chats with my friends without them noticing.(Part-1)', 'OpenAI gave me access to DALL-E 2 and here is my opinion.', 'I bought back black and white pictures to life with AI.', 'Artificial Intelligence, Why and How should you get started?', 'Making an RL-AI to break the Mario speed-run world record.', 'Making a Deep Learning Chandler Bing AI(from f.r.i.e.n.d.s)Part-2', 'Making a Deep Learning Chandler Bing AI (from f.r.i.e.n.d.s)Part-1', 'I made an AI that suggests you songs better than Spotify’s own AI.', 'I made an AI to convert Complex Python Codes to Simple English.', 'So, I made an AI to attend my online classes for me.', 'AI to explain complex things to a second grader using GPT-3.', 'Making an AI to create beautiful artistic animations.(Part-2 Intermediate Method using VQGAN+CLIP)', 'Making an AI to create beautiful artistic animations.(Part-1 Basic Method)', 'Making an AI to enhance images with 0% loss rate using the ESRGAN model', 'Making an AI to make beautiful Art using GPT-3, CLIP and the CC12M Dataset.', 'Making an AI to write Anime stories for me using Deep Learning.', 'Writing an AI to suggest what to make everyday for meals(common problem in Asian-households).']\n",
            "Manuscripts.ai — What is it and how is it gonna change the world of writing?\n",
            "I made an AI to make weird Spotify playlists.\n",
            "What is Data Science and How to get into it?\n",
            "I made an AI to chats with my friends without them noticing.(Part-1)\n",
            "OpenAI gave me access to DALL-E 2 and here is my opinion.\n",
            "I bought back black and white pictures to life with AI.\n",
            "Artificial Intelligence, Why and How should you get started?\n",
            "Making an RL-AI to break the Mario speed-run world record.\n",
            "Making a Deep Learning Chandler Bing AI(from f.r.i.e.n.d.s)Part-2\n",
            "Making a Deep Learning Chandler Bing AI (from f.r.i.e.n.d.s)Part-1\n",
            "I made an AI that suggests you songs better than Spotify’s own AI.\n",
            "I made an AI to convert Complex Python Codes to Simple English.\n",
            "So, I made an AI to attend my online classes for me.\n",
            "AI to explain complex things to a second grader using GPT-3.\n",
            "Making an AI to create beautiful artistic animations.(Part-2 Intermediate Method using VQGAN+CLIP)\n",
            "Making an AI to create beautiful artistic animations.(Part-1 Basic Method)\n",
            "Making an AI to enhance images with 0% loss rate using the ESRGAN model\n",
            "Making an AI to make beautiful Art using GPT-3, CLIP and the CC12M Dataset.\n",
            "Making an AI to write Anime stories for me using Deep Learning.\n",
            "Writing an AI to suggest what to make everyday for meals(common problem in Asian-households).\n"
          ]
        }
      ]
    },
    {
      "cell_type": "code",
      "source": [
        "for a in soup.find_all('a', href=True):\n",
        "    print('Found Link: ',a['href'])"
      ],
      "metadata": {
        "colab": {
          "base_uri": "https://localhost:8080/"
        },
        "id": "xCcIuf4wSX2L",
        "outputId": "f28d1d64-1d93-44e0-81bb-37c676b4fe35"
      },
      "execution_count": null,
      "outputs": [
        {
          "output_type": "stream",
          "name": "stdout",
          "text": [
            "Found Link:  /\n",
            "Found Link:  https://rsci.app.link/?$canonical_url=https%3A%2F%2Fmedium.com/@eeman.majumder&~feature=LoOpenInAppButton&~channel=ShowUser&~stage=mobileNavBar\n",
            "Found Link:  /m/signin?operation=login&redirect=https%3A%2F%2Fmedium.com%2F%40eeman.majumder&source=user_profile--------------------------nav_reg-----------\n",
            "Found Link:  /m/signin?operation=register&redirect=https%3A%2F%2Fmedium.com%2F%40eeman.majumder&source=user_profile--------------------------nav_reg-----------\n",
            "Found Link:  /\n",
            "Found Link:  /\n",
            "Found Link:  /m/signin?operation=register&redirect=https%3A%2F%2Fmedium.com%2Fme%2Fnotifications&source=--------------------------notifications_sidenav-----------\n",
            "Found Link:  /m/signin?operation=register&redirect=https%3A%2F%2Fmedium.com%2Fme%2Flists&source=--------------------------lists_sidenav-----------\n",
            "Found Link:  /m/signin?operation=register&redirect=https%3A%2F%2Fmedium.com%2Fme%2Fstories%2Fdrafts&source=--------------------------stories_sidenav-----------\n",
            "Found Link:  /m/signin?operation=register&redirect=https%3A%2F%2Fmedium.com%2Fnew-story&source=--------------------------new_post_sidenav-----------\n",
            "Found Link:  /\n",
            "Found Link:  /search\n",
            "Found Link:  /m/signin?operation=login&redirect=https%3A%2F%2Fmedium.com%2F%40eeman.majumder&source=user_profile--------------------------lo_home_nav-----------\n",
            "Found Link:  /@eeman.majumder?source=user_profile-------------------------------------\n",
            "Found Link:  /@eeman.majumder?source=user_profile-------------------------------------\n",
            "Found Link:  /m/signin?actionUrl=%2F_%2Fapi%2Fsubscriptions%2Fnewsletters%2F43dfad17eb42&operation=register&redirect=https%3A%2F%2Fmedium.com%2F%40eeman.majumder&newsletterV3=5ea5fc6a4cea&newsletterV3Id=43dfad17eb42&user=Eeman+Majumder&userId=5ea5fc6a4cea&source=--------------------------subscribe_user-----------\n",
            "Found Link:  /@eeman.majumder?source=user_profile-------------------------------------\n",
            "Found Link:  /@eeman.majumder/lists?source=user_profile-------------------------------------\n",
            "Found Link:  /@eeman.majumder/about?source=user_profile-------------------------------------\n",
            "Found Link:  https://medium.com/geekculture?source=user_profile---------0----------------------------\n",
            "Found Link:  /geekculture/manuscripts-ai-what-is-it-and-how-is-it-gonna-change-the-world-of-writing-ede655e16077?source=user_profile---------0----------------------------\n",
            "Found Link:  /geekculture/manuscripts-ai-what-is-it-and-how-is-it-gonna-change-the-world-of-writing-ede655e16077?source=user_profile---------0----------------------------\n",
            "Found Link:  /tag/nlp?source=user_profile--------------------nlp-----------------\n",
            "Found Link:  /geekculture/manuscripts-ai-what-is-it-and-how-is-it-gonna-change-the-world-of-writing-ede655e16077?source=user_profile---------0----------------------------\n",
            "Found Link:  /m/signin?actionUrl=https%3A%2F%2Fmedium.com%2F_%2Fbookmark%2Fp%2Fede655e16077&operation=register&redirect=https%3A%2F%2Fmedium.com%2Fgeekculture%2Fmanuscripts-ai-what-is-it-and-how-is-it-gonna-change-the-world-of-writing-ede655e16077&source=---------0-----------------bookmark_preview-----------\n",
            "Found Link:  /geekculture/manuscripts-ai-what-is-it-and-how-is-it-gonna-change-the-world-of-writing-ede655e16077?source=user_profile---------0----------------------------\n",
            "Found Link:  /@eeman.majumder/i-made-an-ai-to-make-weird-spotify-playlists-f39d05b09216?source=user_profile---------1----------------------------\n",
            "Found Link:  /@eeman.majumder/i-made-an-ai-to-make-weird-spotify-playlists-f39d05b09216?source=user_profile---------1----------------------------\n",
            "Found Link:  /tag/music?source=user_profile--------------------music-----------------\n",
            "Found Link:  /@eeman.majumder/i-made-an-ai-to-make-weird-spotify-playlists-f39d05b09216?source=user_profile---------1----------------------------\n",
            "Found Link:  /m/signin?actionUrl=https%3A%2F%2Fmedium.com%2F_%2Fbookmark%2Fp%2Ff39d05b09216&operation=register&redirect=https%3A%2F%2Fmedium.com%2F%40eeman.majumder%2Fi-made-an-ai-to-make-weird-spotify-playlists-f39d05b09216&source=---------1-----------------bookmark_preview-----------\n",
            "Found Link:  /@eeman.majumder/i-made-an-ai-to-make-weird-spotify-playlists-f39d05b09216?source=user_profile---------1----------------------------\n",
            "Found Link:  https://medium.com/geekculture?source=user_profile---------2----------------------------\n",
            "Found Link:  /geekculture/what-is-data-science-and-how-to-get-into-it-55ec991f60e7?source=user_profile---------2----------------------------\n",
            "Found Link:  /geekculture/what-is-data-science-and-how-to-get-into-it-55ec991f60e7?source=user_profile---------2----------------------------\n",
            "Found Link:  /tag/data-science?source=user_profile--------------------data_science-----------------\n",
            "Found Link:  /geekculture/what-is-data-science-and-how-to-get-into-it-55ec991f60e7?source=user_profile---------2----------------------------\n",
            "Found Link:  /m/signin?actionUrl=https%3A%2F%2Fmedium.com%2F_%2Fbookmark%2Fp%2F55ec991f60e7&operation=register&redirect=https%3A%2F%2Fmedium.com%2Fgeekculture%2Fwhat-is-data-science-and-how-to-get-into-it-55ec991f60e7&source=---------2-----------------bookmark_preview-----------\n",
            "Found Link:  /geekculture/what-is-data-science-and-how-to-get-into-it-55ec991f60e7?source=user_profile---------2----------------------------\n",
            "Found Link:  https://medium.com/geekculture?source=user_profile---------3----------------------------\n",
            "Found Link:  /geekculture/i-made-an-ai-to-chats-with-my-friends-without-them-noticing-part-1-c9a6482a4d80?source=user_profile---------3----------------------------\n",
            "Found Link:  /geekculture/i-made-an-ai-to-chats-with-my-friends-without-them-noticing-part-1-c9a6482a4d80?source=user_profile---------3----------------------------\n",
            "Found Link:  /tag/ai?source=user_profile--------------------ai-----------------\n",
            "Found Link:  /geekculture/i-made-an-ai-to-chats-with-my-friends-without-them-noticing-part-1-c9a6482a4d80?source=user_profile---------3----------------------------\n",
            "Found Link:  /m/signin?actionUrl=https%3A%2F%2Fmedium.com%2F_%2Fbookmark%2Fp%2Fc9a6482a4d80&operation=register&redirect=https%3A%2F%2Fmedium.com%2Fgeekculture%2Fi-made-an-ai-to-chats-with-my-friends-without-them-noticing-part-1-c9a6482a4d80&source=---------3-----------------bookmark_preview-----------\n",
            "Found Link:  /geekculture/i-made-an-ai-to-chats-with-my-friends-without-them-noticing-part-1-c9a6482a4d80?source=user_profile---------3----------------------------\n",
            "Found Link:  /@eeman.majumder/openai-gave-me-access-to-dall-e-2-and-here-is-my-opinion-9dd9cc72b6ae?source=user_profile---------4----------------------------\n",
            "Found Link:  /@eeman.majumder/openai-gave-me-access-to-dall-e-2-and-here-is-my-opinion-9dd9cc72b6ae?source=user_profile---------4----------------------------\n",
            "Found Link:  /tag/openai?source=user_profile--------------------openai-----------------\n",
            "Found Link:  /@eeman.majumder/openai-gave-me-access-to-dall-e-2-and-here-is-my-opinion-9dd9cc72b6ae?source=user_profile---------4----------------------------\n",
            "Found Link:  /m/signin?actionUrl=https%3A%2F%2Fmedium.com%2F_%2Fbookmark%2Fp%2F9dd9cc72b6ae&operation=register&redirect=https%3A%2F%2Fmedium.com%2F%40eeman.majumder%2Fopenai-gave-me-access-to-dall-e-2-and-here-is-my-opinion-9dd9cc72b6ae&source=---------4-----------------bookmark_preview-----------\n",
            "Found Link:  /@eeman.majumder/openai-gave-me-access-to-dall-e-2-and-here-is-my-opinion-9dd9cc72b6ae?source=user_profile---------4----------------------------\n",
            "Found Link:  https://medium.com/geekculture?source=user_profile---------5----------------------------\n",
            "Found Link:  /geekculture/i-bought-back-black-and-white-pictures-to-life-with-ai-2b995773e234?source=user_profile---------5----------------------------\n",
            "Found Link:  /geekculture/i-bought-back-black-and-white-pictures-to-life-with-ai-2b995773e234?source=user_profile---------5----------------------------\n",
            "Found Link:  /tag/image-processing?source=user_profile--------------------image_processing-----------------\n",
            "Found Link:  /geekculture/i-bought-back-black-and-white-pictures-to-life-with-ai-2b995773e234?source=user_profile---------5----------------------------\n",
            "Found Link:  /m/signin?actionUrl=https%3A%2F%2Fmedium.com%2F_%2Fbookmark%2Fp%2F2b995773e234&operation=register&redirect=https%3A%2F%2Fmedium.com%2Fgeekculture%2Fi-bought-back-black-and-white-pictures-to-life-with-ai-2b995773e234&source=---------5-----------------bookmark_preview-----------\n",
            "Found Link:  /geekculture/i-bought-back-black-and-white-pictures-to-life-with-ai-2b995773e234?source=user_profile---------5----------------------------\n",
            "Found Link:  https://medium.com/geekculture?source=user_profile---------6----------------------------\n",
            "Found Link:  /geekculture/artificial-intelligence-why-and-how-should-you-get-started-6ce6acae957c?source=user_profile---------6----------------------------\n",
            "Found Link:  /geekculture/artificial-intelligence-why-and-how-should-you-get-started-6ce6acae957c?source=user_profile---------6----------------------------\n",
            "Found Link:  /tag/artificial-intelligence?source=user_profile--------------------artificial_intelligence-----------------\n",
            "Found Link:  /geekculture/artificial-intelligence-why-and-how-should-you-get-started-6ce6acae957c?source=user_profile---------6----------------------------\n",
            "Found Link:  /m/signin?actionUrl=https%3A%2F%2Fmedium.com%2F_%2Fbookmark%2Fp%2F6ce6acae957c&operation=register&redirect=https%3A%2F%2Fmedium.com%2Fgeekculture%2Fartificial-intelligence-why-and-how-should-you-get-started-6ce6acae957c&source=---------6-----------------bookmark_preview-----------\n",
            "Found Link:  /geekculture/artificial-intelligence-why-and-how-should-you-get-started-6ce6acae957c?source=user_profile---------6----------------------------\n",
            "Found Link:  https://medium.com/geekculture?source=user_profile---------7----------------------------\n",
            "Found Link:  /geekculture/making-an-rl-ai-to-break-the-mario-speed-run-world-record-bd406646d80?source=user_profile---------7----------------------------\n",
            "Found Link:  /geekculture/making-an-rl-ai-to-break-the-mario-speed-run-world-record-bd406646d80?source=user_profile---------7----------------------------\n",
            "Found Link:  /tag/reinforcement-learning?source=user_profile--------------------reinforcement_learning-----------------\n",
            "Found Link:  /geekculture/making-an-rl-ai-to-break-the-mario-speed-run-world-record-bd406646d80?source=user_profile---------7----------------------------\n",
            "Found Link:  /m/signin?actionUrl=https%3A%2F%2Fmedium.com%2F_%2Fbookmark%2Fp%2Fbd406646d80&operation=register&redirect=https%3A%2F%2Fmedium.com%2Fgeekculture%2Fmaking-an-rl-ai-to-break-the-mario-speed-run-world-record-bd406646d80&source=---------7-----------------bookmark_preview-----------\n",
            "Found Link:  /geekculture/making-an-rl-ai-to-break-the-mario-speed-run-world-record-bd406646d80?source=user_profile---------7----------------------------\n",
            "Found Link:  https://medium.com/geekculture?source=user_profile---------8----------------------------\n",
            "Found Link:  /geekculture/making-a-deep-learning-chandler-bing-ai-from-f-r-i-e-n-d-s-part-2-83e991321f63?source=user_profile---------8----------------------------\n",
            "Found Link:  /geekculture/making-a-deep-learning-chandler-bing-ai-from-f-r-i-e-n-d-s-part-2-83e991321f63?source=user_profile---------8----------------------------\n",
            "Found Link:  /tag/nlp?source=user_profile--------------------nlp-----------------\n",
            "Found Link:  /geekculture/making-a-deep-learning-chandler-bing-ai-from-f-r-i-e-n-d-s-part-2-83e991321f63?source=user_profile---------8----------------------------\n",
            "Found Link:  /m/signin?actionUrl=https%3A%2F%2Fmedium.com%2F_%2Fbookmark%2Fp%2F83e991321f63&operation=register&redirect=https%3A%2F%2Fmedium.com%2Fgeekculture%2Fmaking-a-deep-learning-chandler-bing-ai-from-f-r-i-e-n-d-s-part-2-83e991321f63&source=---------8-----------------bookmark_preview-----------\n",
            "Found Link:  /geekculture/making-a-deep-learning-chandler-bing-ai-from-f-r-i-e-n-d-s-part-2-83e991321f63?source=user_profile---------8----------------------------\n",
            "Found Link:  https://medium.com/geekculture?source=user_profile---------9----------------------------\n",
            "Found Link:  /geekculture/making-a-chandler-bing-chatbot-from-f-r-i-e-n-d-s-part-1-5cd2af606ffe?source=user_profile---------9----------------------------\n",
            "Found Link:  /geekculture/making-a-chandler-bing-chatbot-from-f-r-i-e-n-d-s-part-1-5cd2af606ffe?source=user_profile---------9----------------------------\n",
            "Found Link:  /tag/chatbots?source=user_profile--------------------chatbots-----------------\n",
            "Found Link:  /geekculture/making-a-chandler-bing-chatbot-from-f-r-i-e-n-d-s-part-1-5cd2af606ffe?source=user_profile---------9----------------------------\n",
            "Found Link:  /m/signin?actionUrl=https%3A%2F%2Fmedium.com%2F_%2Fbookmark%2Fp%2F5cd2af606ffe&operation=register&redirect=https%3A%2F%2Fmedium.com%2Fgeekculture%2Fmaking-a-chandler-bing-chatbot-from-f-r-i-e-n-d-s-part-1-5cd2af606ffe&source=---------9-----------------bookmark_preview-----------\n",
            "Found Link:  /geekculture/making-a-chandler-bing-chatbot-from-f-r-i-e-n-d-s-part-1-5cd2af606ffe?source=user_profile---------9----------------------------\n",
            "Found Link:  https://medium.com/geekculture?source=user_profile---------10----------------------------\n",
            "Found Link:  /geekculture/spotifys-song-recommendation-ai-wasnt-good-enough-so-i-made-an-ai-better-than-it-38b8528f14bd?source=user_profile---------10----------------------------\n",
            "Found Link:  /geekculture/spotifys-song-recommendation-ai-wasnt-good-enough-so-i-made-an-ai-better-than-it-38b8528f14bd?source=user_profile---------10----------------------------\n",
            "Found Link:  /tag/music?source=user_profile--------------------music-----------------\n",
            "Found Link:  /geekculture/spotifys-song-recommendation-ai-wasnt-good-enough-so-i-made-an-ai-better-than-it-38b8528f14bd?source=user_profile---------10----------------------------\n",
            "Found Link:  /m/signin?actionUrl=https%3A%2F%2Fmedium.com%2F_%2Fbookmark%2Fp%2F38b8528f14bd&operation=register&redirect=https%3A%2F%2Fmedium.com%2Fgeekculture%2Fspotifys-song-recommendation-ai-wasnt-good-enough-so-i-made-an-ai-better-than-it-38b8528f14bd&source=---------10-----------------bookmark_preview-----------\n",
            "Found Link:  /geekculture/spotifys-song-recommendation-ai-wasnt-good-enough-so-i-made-an-ai-better-than-it-38b8528f14bd?source=user_profile---------10----------------------------\n",
            "Found Link:  https://medium.com/geekculture?source=user_profile---------11----------------------------\n",
            "Found Link:  /geekculture/i-made-an-ai-to-convert-python-code-to-english-c0e709db0149?source=user_profile---------11----------------------------\n",
            "Found Link:  /geekculture/i-made-an-ai-to-convert-python-code-to-english-c0e709db0149?source=user_profile---------11----------------------------\n",
            "Found Link:  /tag/ai?source=user_profile--------------------ai-----------------\n",
            "Found Link:  /geekculture/i-made-an-ai-to-convert-python-code-to-english-c0e709db0149?source=user_profile---------11----------------------------\n",
            "Found Link:  /m/signin?actionUrl=https%3A%2F%2Fmedium.com%2F_%2Fbookmark%2Fp%2Fc0e709db0149&operation=register&redirect=https%3A%2F%2Fmedium.com%2Fgeekculture%2Fi-made-an-ai-to-convert-python-code-to-english-c0e709db0149&source=---------11-----------------bookmark_preview-----------\n",
            "Found Link:  /geekculture/i-made-an-ai-to-convert-python-code-to-english-c0e709db0149?source=user_profile---------11----------------------------\n",
            "Found Link:  https://medium.com/geekculture?source=user_profile---------12----------------------------\n",
            "Found Link:  /geekculture/so-i-made-an-ai-to-attend-my-online-classes-for-me-ab2e0ad650c?source=user_profile---------12----------------------------\n",
            "Found Link:  /geekculture/so-i-made-an-ai-to-attend-my-online-classes-for-me-ab2e0ad650c?source=user_profile---------12----------------------------\n",
            "Found Link:  /tag/online-classes?source=user_profile--------------------online_classes-----------------\n",
            "Found Link:  /geekculture/so-i-made-an-ai-to-attend-my-online-classes-for-me-ab2e0ad650c?source=user_profile---------12----------------------------\n",
            "Found Link:  /m/signin?actionUrl=https%3A%2F%2Fmedium.com%2F_%2Fbookmark%2Fp%2Fab2e0ad650c&operation=register&redirect=https%3A%2F%2Fmedium.com%2Fgeekculture%2Fso-i-made-an-ai-to-attend-my-online-classes-for-me-ab2e0ad650c&source=---------12-----------------bookmark_preview-----------\n",
            "Found Link:  /geekculture/so-i-made-an-ai-to-attend-my-online-classes-for-me-ab2e0ad650c?source=user_profile---------12----------------------------\n",
            "Found Link:  https://medium.com/geekculture?source=user_profile---------13----------------------------\n",
            "Found Link:  /geekculture/ai-to-explain-complex-things-to-a-second-grader-using-gpt-3-ab28872bdce9?source=user_profile---------13----------------------------\n",
            "Found Link:  /geekculture/ai-to-explain-complex-things-to-a-second-grader-using-gpt-3-ab28872bdce9?source=user_profile---------13----------------------------\n",
            "Found Link:  /tag/teaching?source=user_profile--------------------teaching-----------------\n",
            "Found Link:  /geekculture/ai-to-explain-complex-things-to-a-second-grader-using-gpt-3-ab28872bdce9?source=user_profile---------13----------------------------\n",
            "Found Link:  /m/signin?actionUrl=https%3A%2F%2Fmedium.com%2F_%2Fbookmark%2Fp%2Fab28872bdce9&operation=register&redirect=https%3A%2F%2Fmedium.com%2Fgeekculture%2Fai-to-explain-complex-things-to-a-second-grader-using-gpt-3-ab28872bdce9&source=---------13-----------------bookmark_preview-----------\n",
            "Found Link:  /geekculture/ai-to-explain-complex-things-to-a-second-grader-using-gpt-3-ab28872bdce9?source=user_profile---------13----------------------------\n",
            "Found Link:  /@eeman.majumder/making-an-ai-to-create-beautiful-artistic-animations-part-2-intermediate-method-using-vqgan-clip-1638d54589c8?source=user_profile---------14----------------------------\n",
            "Found Link:  /@eeman.majumder/making-an-ai-to-create-beautiful-artistic-animations-part-2-intermediate-method-using-vqgan-clip-1638d54589c8?source=user_profile---------14----------------------------\n",
            "Found Link:  /tag/art?source=user_profile--------------------art-----------------\n",
            "Found Link:  /@eeman.majumder/making-an-ai-to-create-beautiful-artistic-animations-part-2-intermediate-method-using-vqgan-clip-1638d54589c8?source=user_profile---------14----------------------------\n",
            "Found Link:  /m/signin?actionUrl=https%3A%2F%2Fmedium.com%2F_%2Fbookmark%2Fp%2F1638d54589c8&operation=register&redirect=https%3A%2F%2Fmedium.com%2F%40eeman.majumder%2Fmaking-an-ai-to-create-beautiful-artistic-animations-part-2-intermediate-method-using-vqgan-clip-1638d54589c8&source=---------14-----------------bookmark_preview-----------\n",
            "Found Link:  /@eeman.majumder/making-an-ai-to-create-beautiful-artistic-animations-part-2-intermediate-method-using-vqgan-clip-1638d54589c8?source=user_profile---------14----------------------------\n",
            "Found Link:  /@eeman.majumder/making-an-ai-to-create-awosme-animations-part-1-basic-method-7a325e1da72a?source=user_profile---------15----------------------------\n",
            "Found Link:  /@eeman.majumder/making-an-ai-to-create-awosme-animations-part-1-basic-method-7a325e1da72a?source=user_profile---------15----------------------------\n",
            "Found Link:  /tag/video-generation?source=user_profile--------------------video_generation-----------------\n",
            "Found Link:  /@eeman.majumder/making-an-ai-to-create-awosme-animations-part-1-basic-method-7a325e1da72a?source=user_profile---------15----------------------------\n",
            "Found Link:  /m/signin?actionUrl=https%3A%2F%2Fmedium.com%2F_%2Fbookmark%2Fp%2F7a325e1da72a&operation=register&redirect=https%3A%2F%2Fmedium.com%2F%40eeman.majumder%2Fmaking-an-ai-to-create-awosme-animations-part-1-basic-method-7a325e1da72a&source=---------15-----------------bookmark_preview-----------\n",
            "Found Link:  /@eeman.majumder/making-an-ai-to-create-awosme-animations-part-1-basic-method-7a325e1da72a?source=user_profile---------15----------------------------\n",
            "Found Link:  /@eeman.majumder/making-an-ai-to-enhance-with-images-0-loss-rate-using-the-esrgan-model-6ac91e77820c?source=user_profile---------16----------------------------\n",
            "Found Link:  /@eeman.majumder/making-an-ai-to-enhance-with-images-0-loss-rate-using-the-esrgan-model-6ac91e77820c?source=user_profile---------16----------------------------\n",
            "Found Link:  /tag/image-processing?source=user_profile--------------------image_processing-----------------\n",
            "Found Link:  /@eeman.majumder/making-an-ai-to-enhance-with-images-0-loss-rate-using-the-esrgan-model-6ac91e77820c?source=user_profile---------16----------------------------\n",
            "Found Link:  /m/signin?actionUrl=https%3A%2F%2Fmedium.com%2F_%2Fbookmark%2Fp%2F6ac91e77820c&operation=register&redirect=https%3A%2F%2Fmedium.com%2F%40eeman.majumder%2Fmaking-an-ai-to-enhance-with-images-0-loss-rate-using-the-esrgan-model-6ac91e77820c&source=---------16-----------------bookmark_preview-----------\n",
            "Found Link:  /@eeman.majumder/making-an-ai-to-enhance-with-images-0-loss-rate-using-the-esrgan-model-6ac91e77820c?source=user_profile---------16----------------------------\n",
            "Found Link:  /@eeman.majumder/making-an-ai-to-make-beautiful-art-using-gpt-3-clip-and-the-cc12m-dataset-144677848e96?source=user_profile---------17----------------------------\n",
            "Found Link:  /@eeman.majumder/making-an-ai-to-make-beautiful-art-using-gpt-3-clip-and-the-cc12m-dataset-144677848e96?source=user_profile---------17----------------------------\n",
            "Found Link:  /tag/art?source=user_profile--------------------art-----------------\n",
            "Found Link:  /@eeman.majumder/making-an-ai-to-make-beautiful-art-using-gpt-3-clip-and-the-cc12m-dataset-144677848e96?source=user_profile---------17----------------------------\n",
            "Found Link:  /m/signin?actionUrl=https%3A%2F%2Fmedium.com%2F_%2Fbookmark%2Fp%2F144677848e96&operation=register&redirect=https%3A%2F%2Fmedium.com%2F%40eeman.majumder%2Fmaking-an-ai-to-make-beautiful-art-using-gpt-3-clip-and-the-cc12m-dataset-144677848e96&source=---------17-----------------bookmark_preview-----------\n",
            "Found Link:  /@eeman.majumder/making-an-ai-to-make-beautiful-art-using-gpt-3-clip-and-the-cc12m-dataset-144677848e96?source=user_profile---------17----------------------------\n",
            "Found Link:  /@eeman.majumder/making-an-ai-to-write-anime-stories-for-me-using-deep-learning-93b50941bb7d?source=user_profile---------18----------------------------\n",
            "Found Link:  /@eeman.majumder/making-an-ai-to-write-anime-stories-for-me-using-deep-learning-93b50941bb7d?source=user_profile---------18----------------------------\n",
            "Found Link:  /tag/anime?source=user_profile--------------------anime-----------------\n",
            "Found Link:  /@eeman.majumder/making-an-ai-to-write-anime-stories-for-me-using-deep-learning-93b50941bb7d?source=user_profile---------18----------------------------\n",
            "Found Link:  /m/signin?actionUrl=https%3A%2F%2Fmedium.com%2F_%2Fbookmark%2Fp%2F93b50941bb7d&operation=register&redirect=https%3A%2F%2Fmedium.com%2F%40eeman.majumder%2Fmaking-an-ai-to-write-anime-stories-for-me-using-deep-learning-93b50941bb7d&source=---------18-----------------bookmark_preview-----------\n",
            "Found Link:  /@eeman.majumder/making-an-ai-to-write-anime-stories-for-me-using-deep-learning-93b50941bb7d?source=user_profile---------18----------------------------\n",
            "Found Link:  /@eeman.majumder/writing-an-ai-to-suggest-what-to-make-everyday-for-meals-common-problem-in-asian-households-15f7ea7bd62f?source=user_profile---------19----------------------------\n",
            "Found Link:  /@eeman.majumder/writing-an-ai-to-suggest-what-to-make-everyday-for-meals-common-problem-in-asian-households-15f7ea7bd62f?source=user_profile---------19----------------------------\n",
            "Found Link:  /tag/ai?source=user_profile--------------------ai-----------------\n",
            "Found Link:  /@eeman.majumder/writing-an-ai-to-suggest-what-to-make-everyday-for-meals-common-problem-in-asian-households-15f7ea7bd62f?source=user_profile---------19----------------------------\n",
            "Found Link:  /m/signin?actionUrl=https%3A%2F%2Fmedium.com%2F_%2Fbookmark%2Fp%2F15f7ea7bd62f&operation=register&redirect=https%3A%2F%2Fmedium.com%2F%40eeman.majumder%2Fwriting-an-ai-to-suggest-what-to-make-everyday-for-meals-common-problem-in-asian-households-15f7ea7bd62f&source=---------19-----------------bookmark_preview-----------\n",
            "Found Link:  /@eeman.majumder/writing-an-ai-to-suggest-what-to-make-everyday-for-meals-common-problem-in-asian-households-15f7ea7bd62f?source=user_profile---------19----------------------------\n",
            "Found Link:  /m/signin?operation=register&redirect=https%3A%2F%2Fmedium.com%2F%40eeman.majumder&source=user_profile--------------------------nav_reg-----------\n",
            "Found Link:  /m/signin?operation=login&redirect=https%3A%2F%2Fmedium.com%2F%40eeman.majumder&source=user_profile--------------------------nav_reg-----------\n",
            "Found Link:  /@eeman.majumder\n",
            "Found Link:  /@eeman.majumder\n",
            "Found Link:  http://B.tech\n",
            "Found Link:  /m/signin?actionUrl=%2F_%2Fapi%2Fsubscriptions%2Fnewsletters%2F43dfad17eb42&operation=register&redirect=https%3A%2F%2Fmedium.com%2F%40eeman.majumder&newsletterV3=5ea5fc6a4cea&newsletterV3Id=43dfad17eb42&user=Eeman+Majumder&userId=5ea5fc6a4cea&source=--------------------------subscribe_user-----------\n",
            "Found Link:  /@gooallen?source=blogrolls_sidebar-------------------------------------\n",
            "Found Link:  /@pythonprogramming?source=blogrolls_sidebar-------------------------------------\n",
            "Found Link:  /@dabhadedeepashri?source=blogrolls_sidebar-------------------------------------\n",
            "Found Link:  /@adityavijayraj?source=blogrolls_sidebar-------------------------------------\n",
            "Found Link:  /@eeman.majumder/list/the-key-to-making-a-great-aichatbot-intigrated-with-tensorflow-47f1366d6f8b\n",
            "Found Link:  /@eeman.majumder/lists\n",
            "Found Link:  https://help.medium.com/hc/en-us\n",
            "Found Link:  https://medium.statuspage.io\n",
            "Found Link:  https://about.medium.com/creators/\n",
            "Found Link:  https://blog.medium.com\n",
            "Found Link:  /jobs-at-medium/work-at-medium-959d1a85284e\n",
            "Found Link:  https://policy.medium.com/medium-privacy-policy-f03bf92035c9\n",
            "Found Link:  https://policy.medium.com/medium-terms-of-service-9db0094a1e0f\n",
            "Found Link:  https://medium.com/about?autoplay=1\n",
            "Found Link:  https://knowable.fyi\n"
          ]
        }
      ]
    },
    {
      "cell_type": "code",
      "source": [
        "print('len: ',len(work))\n",
        "print('The list: ',work)"
      ],
      "metadata": {
        "colab": {
          "base_uri": "https://localhost:8080/"
        },
        "id": "Gf5wZEJheEsI",
        "outputId": "07929eb0-5f29-47c3-b0de-31b832f5955a"
      },
      "execution_count": 97,
      "outputs": [
        {
          "output_type": "stream",
          "name": "stdout",
          "text": [
            "len:  20\n",
            "The list:  ['Manuscripts.ai — What is it and how is it gonna change the world of writing?', 'I made an AI to make weird Spotify playlists.', 'What is Data Science and How to get into it?', 'I made an AI to chats with my friends without them noticing.(Part-1)', 'OpenAI gave me access to DALL-E 2 and here is my opinion.', 'I bought back black and white pictures to life with AI.', 'Artificial Intelligence, Why and How should you get started?', 'Making an RL-AI to break the Mario speed-run world record.', 'Making a Deep Learning Chandler Bing AI(from f.r.i.e.n.d.s)Part-2', 'Making a Deep Learning Chandler Bing AI (from f.r.i.e.n.d.s)Part-1', 'I made an AI that suggests you songs better than Spotify’s own AI.', 'I made an AI to convert Complex Python Codes to Simple English.', 'So, I made an AI to attend my online classes for me.', 'AI to explain complex things to a second grader using GPT-3.', 'Making an AI to create beautiful artistic animations.(Part-2 Intermediate Method using VQGAN+CLIP)', 'Making an AI to create beautiful artistic animations.(Part-1 Basic Method)', 'Making an AI to enhance images with 0% loss rate using the ESRGAN model', 'Making an AI to make beautiful Art using GPT-3, CLIP and the CC12M Dataset.', 'Making an AI to write Anime stories for me using Deep Learning.', 'Writing an AI to suggest what to make everyday for meals(common problem in Asian-households).']\n"
          ]
        }
      ]
    },
    {
      "cell_type": "code",
      "source": [
        "import pandas as pd \n",
        "data = pd.DataFrame()\n",
        "data['text']=work\n",
        "len(data['text'])\n",
        "print(data['text'])"
      ],
      "metadata": {
        "colab": {
          "base_uri": "https://localhost:8080/"
        },
        "id": "jiPyc6gTdR_C",
        "outputId": "430509e5-bde9-4121-89da-75af373ecc1c"
      },
      "execution_count": 103,
      "outputs": [
        {
          "output_type": "stream",
          "name": "stdout",
          "text": [
            "0     Manuscripts.ai — What is it and how is it gonn...\n",
            "1         I made an AI to make weird Spotify playlists.\n",
            "2          What is Data Science and How to get into it?\n",
            "3     I made an AI to chats with my friends without ...\n",
            "4     OpenAI gave me access to DALL-E 2 and here is ...\n",
            "5     I bought back black and white pictures to life...\n",
            "6     Artificial Intelligence, Why and How should yo...\n",
            "7     Making an RL-AI to break the Mario speed-run w...\n",
            "8     Making a Deep Learning Chandler Bing AI(from f...\n",
            "9     Making a Deep Learning Chandler Bing AI (from ...\n",
            "10    I made an AI that suggests you songs better th...\n",
            "11    I made an AI to convert Complex Python Codes t...\n",
            "12    So, I made an AI to attend my online classes f...\n",
            "13    AI to explain complex things to a second grade...\n",
            "14    Making an AI to create beautiful artistic anim...\n",
            "15    Making an AI to create beautiful artistic anim...\n",
            "16    Making an AI to enhance images with 0% loss ra...\n",
            "17    Making an AI to make beautiful Art using GPT-3...\n",
            "18    Making an AI to write Anime stories for me usi...\n",
            "19    Writing an AI to suggest what to make everyday...\n",
            "Name: text, dtype: object\n"
          ]
        }
      ]
    },
    {
      "cell_type": "code",
      "source": [
        "data.head()"
      ],
      "metadata": {
        "colab": {
          "base_uri": "https://localhost:8080/",
          "height": 204
        },
        "id": "pYxvUCSafwsB",
        "outputId": "104afabe-0e38-481c-dcbc-3c9cc6934c78"
      },
      "execution_count": 104,
      "outputs": [
        {
          "output_type": "execute_result",
          "data": {
            "text/plain": [
              "                                                text\n",
              "0  Manuscripts.ai — What is it and how is it gonn...\n",
              "1      I made an AI to make weird Spotify playlists.\n",
              "2       What is Data Science and How to get into it?\n",
              "3  I made an AI to chats with my friends without ...\n",
              "4  OpenAI gave me access to DALL-E 2 and here is ..."
            ],
            "text/html": [
              "\n",
              "  <div id=\"df-0c61b8e2-5492-46a5-b859-78bc9a7dbf8d\">\n",
              "    <div class=\"colab-df-container\">\n",
              "      <div>\n",
              "<style scoped>\n",
              "    .dataframe tbody tr th:only-of-type {\n",
              "        vertical-align: middle;\n",
              "    }\n",
              "\n",
              "    .dataframe tbody tr th {\n",
              "        vertical-align: top;\n",
              "    }\n",
              "\n",
              "    .dataframe thead th {\n",
              "        text-align: right;\n",
              "    }\n",
              "</style>\n",
              "<table border=\"1\" class=\"dataframe\">\n",
              "  <thead>\n",
              "    <tr style=\"text-align: right;\">\n",
              "      <th></th>\n",
              "      <th>text</th>\n",
              "    </tr>\n",
              "  </thead>\n",
              "  <tbody>\n",
              "    <tr>\n",
              "      <th>0</th>\n",
              "      <td>Manuscripts.ai — What is it and how is it gonn...</td>\n",
              "    </tr>\n",
              "    <tr>\n",
              "      <th>1</th>\n",
              "      <td>I made an AI to make weird Spotify playlists.</td>\n",
              "    </tr>\n",
              "    <tr>\n",
              "      <th>2</th>\n",
              "      <td>What is Data Science and How to get into it?</td>\n",
              "    </tr>\n",
              "    <tr>\n",
              "      <th>3</th>\n",
              "      <td>I made an AI to chats with my friends without ...</td>\n",
              "    </tr>\n",
              "    <tr>\n",
              "      <th>4</th>\n",
              "      <td>OpenAI gave me access to DALL-E 2 and here is ...</td>\n",
              "    </tr>\n",
              "  </tbody>\n",
              "</table>\n",
              "</div>\n",
              "      <button class=\"colab-df-convert\" onclick=\"convertToInteractive('df-0c61b8e2-5492-46a5-b859-78bc9a7dbf8d')\"\n",
              "              title=\"Convert this dataframe to an interactive table.\"\n",
              "              style=\"display:none;\">\n",
              "        \n",
              "  <svg xmlns=\"http://www.w3.org/2000/svg\" height=\"24px\"viewBox=\"0 0 24 24\"\n",
              "       width=\"24px\">\n",
              "    <path d=\"M0 0h24v24H0V0z\" fill=\"none\"/>\n",
              "    <path d=\"M18.56 5.44l.94 2.06.94-2.06 2.06-.94-2.06-.94-.94-2.06-.94 2.06-2.06.94zm-11 1L8.5 8.5l.94-2.06 2.06-.94-2.06-.94L8.5 2.5l-.94 2.06-2.06.94zm10 10l.94 2.06.94-2.06 2.06-.94-2.06-.94-.94-2.06-.94 2.06-2.06.94z\"/><path d=\"M17.41 7.96l-1.37-1.37c-.4-.4-.92-.59-1.43-.59-.52 0-1.04.2-1.43.59L10.3 9.45l-7.72 7.72c-.78.78-.78 2.05 0 2.83L4 21.41c.39.39.9.59 1.41.59.51 0 1.02-.2 1.41-.59l7.78-7.78 2.81-2.81c.8-.78.8-2.07 0-2.86zM5.41 20L4 18.59l7.72-7.72 1.47 1.35L5.41 20z\"/>\n",
              "  </svg>\n",
              "      </button>\n",
              "      \n",
              "  <style>\n",
              "    .colab-df-container {\n",
              "      display:flex;\n",
              "      flex-wrap:wrap;\n",
              "      gap: 12px;\n",
              "    }\n",
              "\n",
              "    .colab-df-convert {\n",
              "      background-color: #E8F0FE;\n",
              "      border: none;\n",
              "      border-radius: 50%;\n",
              "      cursor: pointer;\n",
              "      display: none;\n",
              "      fill: #1967D2;\n",
              "      height: 32px;\n",
              "      padding: 0 0 0 0;\n",
              "      width: 32px;\n",
              "    }\n",
              "\n",
              "    .colab-df-convert:hover {\n",
              "      background-color: #E2EBFA;\n",
              "      box-shadow: 0px 1px 2px rgba(60, 64, 67, 0.3), 0px 1px 3px 1px rgba(60, 64, 67, 0.15);\n",
              "      fill: #174EA6;\n",
              "    }\n",
              "\n",
              "    [theme=dark] .colab-df-convert {\n",
              "      background-color: #3B4455;\n",
              "      fill: #D2E3FC;\n",
              "    }\n",
              "\n",
              "    [theme=dark] .colab-df-convert:hover {\n",
              "      background-color: #434B5C;\n",
              "      box-shadow: 0px 1px 3px 1px rgba(0, 0, 0, 0.15);\n",
              "      filter: drop-shadow(0px 1px 2px rgba(0, 0, 0, 0.3));\n",
              "      fill: #FFFFFF;\n",
              "    }\n",
              "  </style>\n",
              "\n",
              "      <script>\n",
              "        const buttonEl =\n",
              "          document.querySelector('#df-0c61b8e2-5492-46a5-b859-78bc9a7dbf8d button.colab-df-convert');\n",
              "        buttonEl.style.display =\n",
              "          google.colab.kernel.accessAllowed ? 'block' : 'none';\n",
              "\n",
              "        async function convertToInteractive(key) {\n",
              "          const element = document.querySelector('#df-0c61b8e2-5492-46a5-b859-78bc9a7dbf8d');\n",
              "          const dataTable =\n",
              "            await google.colab.kernel.invokeFunction('convertToInteractive',\n",
              "                                                     [key], {});\n",
              "          if (!dataTable) return;\n",
              "\n",
              "          const docLinkHtml = 'Like what you see? Visit the ' +\n",
              "            '<a target=\"_blank\" href=https://colab.research.google.com/notebooks/data_table.ipynb>data table notebook</a>'\n",
              "            + ' to learn more about interactive tables.';\n",
              "          element.innerHTML = '';\n",
              "          dataTable['output_type'] = 'display_data';\n",
              "          await google.colab.output.renderOutput(dataTable, element);\n",
              "          const docLink = document.createElement('div');\n",
              "          docLink.innerHTML = docLinkHtml;\n",
              "          element.appendChild(docLink);\n",
              "        }\n",
              "      </script>\n",
              "    </div>\n",
              "  </div>\n",
              "  "
            ]
          },
          "metadata": {},
          "execution_count": 104
        }
      ]
    },
    {
      "cell_type": "code",
      "source": [
        "! pip install textblob"
      ],
      "metadata": {
        "colab": {
          "base_uri": "https://localhost:8080/"
        },
        "id": "cysh-7iKdGfX",
        "outputId": "dba87260-a505-430e-f157-d551e313d623"
      },
      "execution_count": 105,
      "outputs": [
        {
          "output_type": "stream",
          "name": "stdout",
          "text": [
            "Looking in indexes: https://pypi.org/simple, https://us-python.pkg.dev/colab-wheels/public/simple/\n",
            "Requirement already satisfied: textblob in /usr/local/lib/python3.7/dist-packages (0.15.3)\n",
            "Requirement already satisfied: nltk>=3.1 in /usr/local/lib/python3.7/dist-packages (from textblob) (3.7)\n",
            "Requirement already satisfied: click in /usr/local/lib/python3.7/dist-packages (from nltk>=3.1->textblob) (7.1.2)\n",
            "Requirement already satisfied: tqdm in /usr/local/lib/python3.7/dist-packages (from nltk>=3.1->textblob) (4.64.0)\n",
            "Requirement already satisfied: regex>=2021.8.3 in /usr/local/lib/python3.7/dist-packages (from nltk>=3.1->textblob) (2022.6.2)\n",
            "Requirement already satisfied: joblib in /usr/local/lib/python3.7/dist-packages (from nltk>=3.1->textblob) (1.1.0)\n"
          ]
        }
      ]
    },
    {
      "cell_type": "code",
      "source": [
        "from textblob import TextBlob\n",
        "data['calculated'] = data['text'].apply(lambda x: (TextBlob(x).sentiment.polarity))\n",
        "print(data['calculated'])\n",
        "l=[f'{round(i*100, 3)}%' for i in data['calculated']]\n",
        "data['percentage']=l\n",
        "data.to_csv('/content/My_ai_roasted_me.csv')\n",
        "data.head()"
      ],
      "metadata": {
        "colab": {
          "base_uri": "https://localhost:8080/",
          "height": 561
        },
        "id": "YjSp0nE4dHUi",
        "outputId": "11692c00-8aa8-4c59-f39e-04a6f717f69a"
      },
      "execution_count": 117,
      "outputs": [
        {
          "output_type": "stream",
          "name": "stdout",
          "text": [
            "0     0.000000\n",
            "1    -0.500000\n",
            "2     0.000000\n",
            "3     0.000000\n",
            "4     0.000000\n",
            "5    -0.055556\n",
            "6    -0.600000\n",
            "7     0.000000\n",
            "8     0.000000\n",
            "9     0.000000\n",
            "10    0.550000\n",
            "11   -0.100000\n",
            "12    0.000000\n",
            "13   -0.150000\n",
            "14    0.591667\n",
            "15    0.394444\n",
            "16    0.000000\n",
            "17    0.850000\n",
            "18    0.000000\n",
            "19   -0.200000\n",
            "Name: calculated, dtype: float64\n"
          ]
        },
        {
          "output_type": "execute_result",
          "data": {
            "text/plain": [
              "                                                text  calculated percentage\n",
              "0  Manuscripts.ai — What is it and how is it gonn...         0.0       0.0%\n",
              "1      I made an AI to make weird Spotify playlists.        -0.5     -50.0%\n",
              "2       What is Data Science and How to get into it?         0.0       0.0%\n",
              "3  I made an AI to chats with my friends without ...         0.0       0.0%\n",
              "4  OpenAI gave me access to DALL-E 2 and here is ...         0.0       0.0%"
            ],
            "text/html": [
              "\n",
              "  <div id=\"df-2837a71b-eeac-4cb6-a677-33f1dd7a97b6\">\n",
              "    <div class=\"colab-df-container\">\n",
              "      <div>\n",
              "<style scoped>\n",
              "    .dataframe tbody tr th:only-of-type {\n",
              "        vertical-align: middle;\n",
              "    }\n",
              "\n",
              "    .dataframe tbody tr th {\n",
              "        vertical-align: top;\n",
              "    }\n",
              "\n",
              "    .dataframe thead th {\n",
              "        text-align: right;\n",
              "    }\n",
              "</style>\n",
              "<table border=\"1\" class=\"dataframe\">\n",
              "  <thead>\n",
              "    <tr style=\"text-align: right;\">\n",
              "      <th></th>\n",
              "      <th>text</th>\n",
              "      <th>calculated</th>\n",
              "      <th>percentage</th>\n",
              "    </tr>\n",
              "  </thead>\n",
              "  <tbody>\n",
              "    <tr>\n",
              "      <th>0</th>\n",
              "      <td>Manuscripts.ai — What is it and how is it gonn...</td>\n",
              "      <td>0.0</td>\n",
              "      <td>0.0%</td>\n",
              "    </tr>\n",
              "    <tr>\n",
              "      <th>1</th>\n",
              "      <td>I made an AI to make weird Spotify playlists.</td>\n",
              "      <td>-0.5</td>\n",
              "      <td>-50.0%</td>\n",
              "    </tr>\n",
              "    <tr>\n",
              "      <th>2</th>\n",
              "      <td>What is Data Science and How to get into it?</td>\n",
              "      <td>0.0</td>\n",
              "      <td>0.0%</td>\n",
              "    </tr>\n",
              "    <tr>\n",
              "      <th>3</th>\n",
              "      <td>I made an AI to chats with my friends without ...</td>\n",
              "      <td>0.0</td>\n",
              "      <td>0.0%</td>\n",
              "    </tr>\n",
              "    <tr>\n",
              "      <th>4</th>\n",
              "      <td>OpenAI gave me access to DALL-E 2 and here is ...</td>\n",
              "      <td>0.0</td>\n",
              "      <td>0.0%</td>\n",
              "    </tr>\n",
              "  </tbody>\n",
              "</table>\n",
              "</div>\n",
              "      <button class=\"colab-df-convert\" onclick=\"convertToInteractive('df-2837a71b-eeac-4cb6-a677-33f1dd7a97b6')\"\n",
              "              title=\"Convert this dataframe to an interactive table.\"\n",
              "              style=\"display:none;\">\n",
              "        \n",
              "  <svg xmlns=\"http://www.w3.org/2000/svg\" height=\"24px\"viewBox=\"0 0 24 24\"\n",
              "       width=\"24px\">\n",
              "    <path d=\"M0 0h24v24H0V0z\" fill=\"none\"/>\n",
              "    <path d=\"M18.56 5.44l.94 2.06.94-2.06 2.06-.94-2.06-.94-.94-2.06-.94 2.06-2.06.94zm-11 1L8.5 8.5l.94-2.06 2.06-.94-2.06-.94L8.5 2.5l-.94 2.06-2.06.94zm10 10l.94 2.06.94-2.06 2.06-.94-2.06-.94-.94-2.06-.94 2.06-2.06.94z\"/><path d=\"M17.41 7.96l-1.37-1.37c-.4-.4-.92-.59-1.43-.59-.52 0-1.04.2-1.43.59L10.3 9.45l-7.72 7.72c-.78.78-.78 2.05 0 2.83L4 21.41c.39.39.9.59 1.41.59.51 0 1.02-.2 1.41-.59l7.78-7.78 2.81-2.81c.8-.78.8-2.07 0-2.86zM5.41 20L4 18.59l7.72-7.72 1.47 1.35L5.41 20z\"/>\n",
              "  </svg>\n",
              "      </button>\n",
              "      \n",
              "  <style>\n",
              "    .colab-df-container {\n",
              "      display:flex;\n",
              "      flex-wrap:wrap;\n",
              "      gap: 12px;\n",
              "    }\n",
              "\n",
              "    .colab-df-convert {\n",
              "      background-color: #E8F0FE;\n",
              "      border: none;\n",
              "      border-radius: 50%;\n",
              "      cursor: pointer;\n",
              "      display: none;\n",
              "      fill: #1967D2;\n",
              "      height: 32px;\n",
              "      padding: 0 0 0 0;\n",
              "      width: 32px;\n",
              "    }\n",
              "\n",
              "    .colab-df-convert:hover {\n",
              "      background-color: #E2EBFA;\n",
              "      box-shadow: 0px 1px 2px rgba(60, 64, 67, 0.3), 0px 1px 3px 1px rgba(60, 64, 67, 0.15);\n",
              "      fill: #174EA6;\n",
              "    }\n",
              "\n",
              "    [theme=dark] .colab-df-convert {\n",
              "      background-color: #3B4455;\n",
              "      fill: #D2E3FC;\n",
              "    }\n",
              "\n",
              "    [theme=dark] .colab-df-convert:hover {\n",
              "      background-color: #434B5C;\n",
              "      box-shadow: 0px 1px 3px 1px rgba(0, 0, 0, 0.15);\n",
              "      filter: drop-shadow(0px 1px 2px rgba(0, 0, 0, 0.3));\n",
              "      fill: #FFFFFF;\n",
              "    }\n",
              "  </style>\n",
              "\n",
              "      <script>\n",
              "        const buttonEl =\n",
              "          document.querySelector('#df-2837a71b-eeac-4cb6-a677-33f1dd7a97b6 button.colab-df-convert');\n",
              "        buttonEl.style.display =\n",
              "          google.colab.kernel.accessAllowed ? 'block' : 'none';\n",
              "\n",
              "        async function convertToInteractive(key) {\n",
              "          const element = document.querySelector('#df-2837a71b-eeac-4cb6-a677-33f1dd7a97b6');\n",
              "          const dataTable =\n",
              "            await google.colab.kernel.invokeFunction('convertToInteractive',\n",
              "                                                     [key], {});\n",
              "          if (!dataTable) return;\n",
              "\n",
              "          const docLinkHtml = 'Like what you see? Visit the ' +\n",
              "            '<a target=\"_blank\" href=https://colab.research.google.com/notebooks/data_table.ipynb>data table notebook</a>'\n",
              "            + ' to learn more about interactive tables.';\n",
              "          element.innerHTML = '';\n",
              "          dataTable['output_type'] = 'display_data';\n",
              "          await google.colab.output.renderOutput(dataTable, element);\n",
              "          const docLink = document.createElement('div');\n",
              "          docLink.innerHTML = docLinkHtml;\n",
              "          element.appendChild(docLink);\n",
              "        }\n",
              "      </script>\n",
              "    </div>\n",
              "  </div>\n",
              "  "
            ]
          },
          "metadata": {},
          "execution_count": 117
        }
      ]
    }
  ]
}